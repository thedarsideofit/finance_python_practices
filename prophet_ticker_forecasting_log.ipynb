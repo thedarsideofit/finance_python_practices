{
  "nbformat": 4,
  "nbformat_minor": 0,
  "metadata": {
    "colab": {
      "name": "prophet-ticker-forecasting-log.ipynb",
      "provenance": [],
      "private_outputs": true,
      "toc_visible": true,
      "mount_file_id": "1EhQZdydRYCRseytNY5LiX9wdTEhb8uqX",
      "authorship_tag": "ABX9TyPLfAIcJBsqUopEH9FMzHkI",
      "include_colab_link": true
    },
    "kernelspec": {
      "name": "python3",
      "display_name": "Python 3"
    },
    "accelerator": "TPU"
  },
  "cells": [
    {
      "cell_type": "markdown",
      "metadata": {
        "id": "view-in-github",
        "colab_type": "text"
      },
      "source": [
        "<a href=\"https://colab.research.google.com/github/thedarsideofit/finance_python_practices/blob/main/prophet_ticker_forecasting_log.ipynb\" target=\"_parent\"><img src=\"https://colab.research.google.com/assets/colab-badge.svg\" alt=\"Open In Colab\"/></a>"
      ]
    },
    {
      "cell_type": "markdown",
      "metadata": {
        "id": "5AEUMaxYOwkc"
      },
      "source": [
        "# Main Source\n",
        "\n",
        "https://towardsdatascience.com/apple-stock-and-bitcoin-price-predictions-using-fbs-prophet-for-beginners-python-96d5ec404b77?gi=962fdc51375b\n",
        "\n",
        "### Changepoint Detection\n",
        "https://facebook.github.io/prophet/docs/trend_changepoints.html#automatic-changepoint-detection-in-prophet\n",
        "\n",
        "### Plotly In Colab\n",
        "https://colab.research.google.com/github/binnisb/blog/blob/master/_notebooks/2020-04-02-Plotly-in-lab.ipynb#scrollTo=fblKrSaCeCz3\n",
        "\n",
        "### Hyper Parameter tunning and metrics\n",
        "https://futurice.com/blog/business-forecasting-with-facebook-prophet\n"
      ]
    },
    {
      "cell_type": "code",
      "metadata": {
        "id": "eB7dVur7ODCP"
      },
      "source": [
        "pip install alphavantage_api"
      ],
      "execution_count": null,
      "outputs": []
    },
    {
      "cell_type": "code",
      "metadata": {
        "id": "6M-9iKnkhm9A"
      },
      "source": [
        "pip install alpha_vantage"
      ],
      "execution_count": null,
      "outputs": []
    },
    {
      "cell_type": "code",
      "metadata": {
        "id": "V7Kk6UfVPa9E"
      },
      "source": [
        "import pandas as pd\n",
        "from fbprophet import Prophet\n",
        "import matplotlib.pyplot as plt\n",
        "import numpy as np\n",
        "import seaborn as sns\n",
        "import wordcloud\n",
        "from alphaVantageAPI.alphavantage import AlphaVantage "
      ],
      "execution_count": null,
      "outputs": []
    },
    {
      "cell_type": "code",
      "metadata": {
        "id": "KfiQU8hQRr3T"
      },
      "source": [
        "from alpha_vantage.timeseries import TimeSeries\n",
        "import matplotlib.pyplot as plt\n",
        "######### CHANGE THE TICKER HERE #########\n",
        "ticker = 'NVDA'\n",
        "######### CHANGE THE TICKER HERE #########\n",
        "ts = TimeSeries(key='Your Access Key',output_format='pandas')\n",
        "stock, meta_data = ts.get_daily(symbol=ticker,outputsize='full')\n",
        "stock.head()"
      ],
      "execution_count": null,
      "outputs": []
    },
    {
      "cell_type": "code",
      "metadata": {
        "id": "RlbTT7ShSNj6"
      },
      "source": [
        "#Write/Read from a file.\n",
        "stock.to_csv ('/content/drive/My Drive/Colab Notebooks/Finanzas/' + ticker + 'pricedata.csv', index = 'date', header=True)\n",
        "stock = pd.read_csv('/content/drive/My Drive/Colab Notebooks/Finanzas/' + ticker + 'pricedata.csv')\n",
        "stock.head()"
      ],
      "execution_count": null,
      "outputs": []
    },
    {
      "cell_type": "code",
      "metadata": {
        "id": "0_-zyu9mTIm0"
      },
      "source": [
        "from alpha_vantage.techindicators import TechIndicators\n",
        "import matplotlib.pyplot as plt\n",
        "ti = TechIndicators(key='NLRHFAQBGU5WGPQH',output_format='pandas')\n",
        "data, meta_data = ti.get_sma(symbol=ticker,interval='daily', time_period=60,series_type = 'close')\n",
        "data.plot()\n",
        "plt.show()"
      ],
      "execution_count": null,
      "outputs": []
    },
    {
      "cell_type": "code",
      "metadata": {
        "id": "5M9MjGFeTLqC"
      },
      "source": [
        "from alpha_vantage.techindicators import TechIndicators\n",
        "import matplotlib.pyplot as plt\n",
        "ti = TechIndicators(key='Youraccesskey',output_format='pandas')\n",
        "data, meta_data = ti.get_rsi(symbol=ticker,interval='daily', time_period=60,series_type = 'close')\n",
        "data.plot()\n",
        "plt.show()"
      ],
      "execution_count": null,
      "outputs": []
    },
    {
      "cell_type": "code",
      "metadata": {
        "id": "iEJ-tYOpTX-t"
      },
      "source": [
        "#Convert the dataframe into the prophet expected format.\n",
        "stock.rename(columns={'4. close': 'y', 'date': 'ds'},inplace=True)\n",
        "stock['ds'] = pd.to_datetime(stock['ds'])\n",
        "# To avoid the peaks we're gonna use the log\n",
        "stock['y']= np.log(stock['y']).astype(float)\n",
        "stock.head()"
      ],
      "execution_count": null,
      "outputs": []
    },
    {
      "cell_type": "code",
      "metadata": {
        "id": "HRYGK90NiIT9"
      },
      "source": [
        "#Fit the model \n",
        "df_prophet = Prophet(changepoint_prior_scale=0.03, daily_seasonality=True)\n",
        "df_prophet.fit(stock)"
      ],
      "execution_count": null,
      "outputs": []
    },
    {
      "cell_type": "code",
      "metadata": {
        "id": "mVnlmLNRUmKO"
      },
      "source": [
        "fcast_time= 365   # 1 year\n",
        "df_forecast = df_prophet.make_future_dataframe(periods= fcast_time, freq='D')\n",
        "df_forecast.tail(10)"
      ],
      "execution_count": null,
      "outputs": []
    },
    {
      "cell_type": "code",
      "metadata": {
        "id": "DoCCQGR0jXll"
      },
      "source": [
        "# Forecasting - call the method predict\n",
        "df_forecast = df_prophet.predict(df_forecast)\n",
        "df_forecast[['ds', 'yhat', 'yhat_lower', 'yhat_upper'] ]\n",
        "df = df_forecast[df_forecast['ds']< '2020-11-30']\n",
        "# Convert the value to see the price\n",
        "df['yhat'] = np.exp(df['yhat'])\n",
        "df['yhat_lower'] = np.exp(df['yhat_lower'])\n",
        "df['yhat_upper'] = np.exp(df['yhat_upper'])\n",
        "df[['ds','yhat', 'yhat_lower', 'yhat_upper'] ].to_csv ('/content/drive/My Drive/Colab Notebooks/Finanzas/' + ticker + 'pricedata-predicted.csv', index = 'ds', header=True)\n",
        "df[['ds','yhat', 'yhat_lower', 'yhat_upper'] ].tail(20)"
      ],
      "execution_count": null,
      "outputs": []
    },
    {
      "cell_type": "code",
      "metadata": {
        "id": "AiVgq3e9jpbG"
      },
      "source": [
        "fig = df_prophet.plot(df_forecast, xlabel = 'Date', ylabel = ticker + ' Price')\n",
        "fig.show()"
      ],
      "execution_count": null,
      "outputs": []
    },
    {
      "cell_type": "code",
      "metadata": {
        "id": "otCRqMJPj2ZU"
      },
      "source": [
        "fig2 = df_prophet.plot_components(df_forecast)\n",
        "plt.show()"
      ],
      "execution_count": null,
      "outputs": []
    },
    {
      "cell_type": "code",
      "metadata": {
        "id": "cNpxsmxFXWFj"
      },
      "source": [
        "from fbprophet.plot import add_changepoints_to_plot\n",
        "\n",
        "fig = df_prophet.plot(df_forecast)\n",
        "a = add_changepoints_to_plot(fig.gca(), df_prophet, df_forecast)\n"
      ],
      "execution_count": null,
      "outputs": []
    },
    {
      "cell_type": "code",
      "metadata": {
        "id": "EUd-0n5pj7k_"
      },
      "source": [
        "from fbprophet.plot import plot_plotly\n",
        "from IPython.display import HTML\n",
        "fig = plot_plotly(df_prophet, df_forecast)  # This returns a plotly Figure\n",
        "HTML(fig.to_html())"
      ],
      "execution_count": null,
      "outputs": []
    },
    {
      "cell_type": "code",
      "metadata": {
        "id": "Sq0994-Ikc0h"
      },
      "source": [
        "from fbprophet.diagnostics import cross_validation\n",
        "df_cv = cross_validation(df_prophet, initial='730 days', period='180 days', horizon = '30 days')\n",
        "df_cv.tail()"
      ],
      "execution_count": null,
      "outputs": []
    },
    {
      "cell_type": "code",
      "metadata": {
        "id": "0aIsQcbynGhn"
      },
      "source": [
        "from fbprophet.diagnostics import performance_metrics\n",
        "df_p = performance_metrics(df_cv)\n",
        "df_p.head()"
      ],
      "execution_count": null,
      "outputs": []
    },
    {
      "cell_type": "code",
      "metadata": {
        "id": "-g7eW2brnfZK"
      },
      "source": [
        "from fbprophet.plot import plot_cross_validation_metric\n",
        "fig = plot_cross_validation_metric(df_cv, metric = 'mse')"
      ],
      "execution_count": null,
      "outputs": []
    }
  ]
}